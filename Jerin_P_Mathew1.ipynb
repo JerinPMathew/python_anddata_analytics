{
  "nbformat": 4,
  "nbformat_minor": 0,
  "metadata": {
    "colab": {
      "name": "Jerin_P_Mathew1.ipynb",
      "provenance": [],
      "collapsed_sections": []
    },
    "kernelspec": {
      "name": "python3",
      "display_name": "Python 3"
    },
    "language_info": {
      "name": "python"
    }
  },
  "cells": [
    {
      "cell_type": "code",
      "metadata": {
        "colab": {
          "base_uri": "https://localhost:8080/"
        },
        "id": "D-LOHcLEH6vK",
        "outputId": "920a0b47-9398-4a8b-cf7b-2dc55a1f43a5"
      },
      "source": [
        "import pandas as pd\n",
        "import numpy as np\n",
        "\n",
        "df = pd.DataFrame(pd.read_csv('/content/train (1).csv'))\n",
        "df.head()\n",
        "df.shape\n",
        "\n",
        "df.isnull().sum()\n",
        "\n",
        "x = df.isnull().sum()\n",
        "\n",
        "drop_col = x[x>(35/100 * df.shape[0])]\n",
        "drop_col\n",
        "\n",
        "drop_col.index\n",
        "df.drop(drop_col.index, axis=1, inplace=True)\n",
        "df.isnull().sum()\n",
        "\n",
        "df.fillna(df.mean(), inplace = True)\n",
        "df.isnull().sum()\n",
        "\n",
        "df['Embarked'].describe()\n",
        "df['Embarked'].fillna('S', inplace = True)\n",
        "df.isnull().sum()\n",
        "\n",
        "df.corr()\n",
        "\n",
        "df['FamilySize'] = df['SibSp']+df['Parch']\n",
        "df.drop(['SibSp', 'Parch'], axis=1, inplace = True)\n",
        "df.corr()\n",
        "\n",
        "df['Alone'] = [0 if df['FamilySize'][i]>0 else 1 for i in df.index]\n",
        "df.head()\n",
        "\n",
        "df.groupby(['Alone'])['Survived'].mean()\n",
        "\n",
        "df[['Alone','Fare']].corr()\n",
        "\n",
        "df['Sex'] = [0 if df['Sex'][i]=='male' else 1 for i in df.index]\n",
        "df.groupby(['Sex'])['Survived'].mean()\n",
        "df.groupby(['Embarked'])['Survived'].mean()\n"
      ],
      "execution_count": 30,
      "outputs": [
        {
          "output_type": "execute_result",
          "data": {
            "text/plain": [
              "Embarked\n",
              "C    0.553571\n",
              "Q    0.389610\n",
              "S    0.339009\n",
              "Name: Survived, dtype: float64"
            ]
          },
          "metadata": {
            "tags": []
          },
          "execution_count": 30
        }
      ]
    },
    {
      "cell_type": "markdown",
      "metadata": {
        "id": "xBexZ8IkSa22"
      },
      "source": [
        "CONCLUSION\n",
        "\n",
        "1. Female passengers were prioritized over men.\n",
        "2. People with high class or rich people have higher survival rate than others. The hierarchy might have been followed while saving the passengers.\n",
        "3. Passengers travelling with their family have higher survival rate.\n",
        "4. Passengers who boarded the ship at Cherbourg, survived more in proportion than others. \n",
        "\n"
      ]
    },
    {
      "cell_type": "code",
      "metadata": {
        "id": "trIjFy5qTqgp"
      },
      "source": [
        ""
      ],
      "execution_count": null,
      "outputs": []
    }
  ]
}